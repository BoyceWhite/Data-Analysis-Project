{
 "cells": [
  {
   "cell_type": "code",
   "execution_count": null,
   "metadata": {},
   "outputs": [
    {
     "ename": "",
     "evalue": "",
     "output_type": "error",
     "traceback": [
      "\u001b[1;31mRunning cells with 'Python 3.12.7' requires the ipykernel package.\n",
      "\u001b[1;31mRun the following command to install 'ipykernel' into the Python environment. \n",
      "\u001b[1;31mCommand: 'c:/Users/A02329350/AppData/Local/Microsoft/WindowsApps/python3.12.exe -m pip install ipykernel -U --user --force-reinstall'"
     ]
    }
   ],
   "source": [
    "\n",
    "import string\n",
    "import pandas as pd\n",
    "from sklearn.feature_extraction.text import CountVectorizer\n",
    "from sklearn.model_selection import train_test_split\n",
    "from sklearn.tree import DecisionTreeClassifier\n",
    "from sklearn.metrics import accuracy_score, classification_report\n",
    "import matplotlib as plt\n",
    "from sklearn.model_selection import cross_val_score, train_test_split\n",
    "from sklearn.preprocessing import LabelEncoder\n",
    "from sklearn import tree\n",
    "from sklearn.tree import plot_tree\n",
    "from sklearn.cluster import KMeans\n",
    "\n",
    "from sklearn.metrics import (\n",
    "    confusion_matrix, ConfusionMatrixDisplay, adjusted_rand_score, adjusted_mutual_info_score, homogeneity_score,\n",
    "    roc_curve, completeness_score, v_measure_score, silhouette_score, davies_bouldin_score, roc_auc_score\n",
    ")"
   ]
  },
  {
   "cell_type": "code",
   "execution_count": null,
   "metadata": {},
   "outputs": [],
   "source": [
    "# data = pd.read_csv('TEST Dataset.csv')\n",
    "data = pd.read_csv('IMDB Dataset.csv')\n",
    "\n",
    "reviews = data['review']\n",
    "sentiments = data['sentiment']\n",
    "\n",
    "print('Number of Reviews: ', len(reviews))\n",
    "print('% Positive: ', (len(reviews[sentiments == 'positive'])/len(reviews))*100)\n",
    "print('% Positive: ', (len(reviews[sentiments == 'negative'])/len(reviews))*100)\n",
    "\n",
    "#Removing Punctuation and printing an example\n",
    "reviews = reviews.str.lower().str.strip().str.translate(str.maketrans('', '', string.punctuation))\n",
    "\n",
    "# Creating Bag Of Words\n",
    "vectorizer = CountVectorizer(stop_words='english') #Removes some words like 'the' 'and' 'a' \n",
    "x = vectorizer.fit_transform(reviews)\n",
    "\n",
    "#Predictive Model\n",
    "x_train, x_test, y_train, y_test = train_test_split(x, sentiments, test_size=0.2, random_state=1)"
   ]
  },
  {
   "cell_type": "code",
   "execution_count": null,
   "metadata": {},
   "outputs": [],
   "source": [
    "def DT(x_train, x_test, y_train, y_test, hyper):\n",
    "    scoresAvg = []\n",
    "\n",
    "    for depth in hyper:\n",
    "        clf = tree.DecisionTreeClassifier(max_depth=depth, random_state=42)\n",
    "        scores = cross_val_score(clf, x_train, y_train, cv=5, scoring='accuracy')\n",
    "        scoresAvg.append(scores.mean())\n",
    "\n",
    "    # Find the best depth\n",
    "    bestDepth = hyper[scoresAvg.index(max(scoresAvg))]\n",
    "\n",
    "    # Plot the accuracy vs. max depth\n",
    "    plt.figure(figsize=(8, 6))\n",
    "    plt.plot(hyper, scoresAvg, marker='o', linestyle='-', color='b')\n",
    "    plt.title('Decision Tree: Accuracy vs. Max Depth')\n",
    "    plt.xlabel('Max Depth')\n",
    "    plt.ylabel('Average Accuracy Score')\n",
    "    plt.xticks(hyper)\n",
    "    plt.grid(True)\n",
    "    plt.show()\n",
    "\n",
    "    print('Best Decision Tree Depth: ', bestDepth)"
   ]
  },
  {
   "cell_type": "code",
   "execution_count": null,
   "metadata": {},
   "outputs": [],
   "source": [
    "DT_DEPTHS = [1, 5, 10, 50, 100]\n",
    "print(DT(x_train, x_test, y_train, y_test, DT_DEPTHS))"
   ]
  }
 ],
 "metadata": {
  "kernelspec": {
   "display_name": "Python 3",
   "language": "python",
   "name": "python3"
  },
  "language_info": {
   "name": "python",
   "version": "3.12.7"
  }
 },
 "nbformat": 4,
 "nbformat_minor": 2
}
